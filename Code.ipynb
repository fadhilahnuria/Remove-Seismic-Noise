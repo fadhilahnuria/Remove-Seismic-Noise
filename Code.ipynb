{
  "cells": [
    {
      "cell_type": "markdown",
      "metadata": {
        "id": "DfRveRZrx3fv"
      },
      "source": [
        "**SAINS DATA 2022A**\n",
        "\n",
        "**JUDUL : REMOVE SEISMIC NOISE**"
      ]
    },
    {
      "cell_type": "markdown",
      "metadata": {
        "id": "U5RxMei1x5RP"
      },
      "source": [
        "1. Fadhilah nuria shinta / 22031554003 \n",
        "2. Daffa Fazly Rashidhan / 22031554006\n",
        "3. Dhani Aditya Putra E./ 22031554038"
      ]
    },
    {
      "cell_type": "markdown",
      "metadata": {
        "id": "OkGutJJZx7h1"
      },
      "source": [
        "**Masalah** : \n",
        "1. Metode atau teknik yang digunakan untuk menghapus noise\n",
        "2. Perbandingan sinyal suara asli dengan sinyal suara yang noisenya dihapus\n",
        "3.Perbandingan vsualisasi sinyal seismic pada beberapa audio (normal audio, noise audio, dan reduced audio)\n"
      ]
    },
    {
      "cell_type": "markdown",
      "metadata": {
        "id": "qDq_8Tx7x-RY"
      },
      "source": [
        "**Urgensi**\n",
        "Alasan penghapusan noise dari suara seismic memiliki beberapa urgensi :\n",
        "\n",
        "Dalam analisis dan interpretasi data seismic, kualitas sinyal yang akurat dan jernih sangat penting. Noise dalam sinyal seismic dapat mengaburkan informasi yang diinginkan, sehingga mengurangi kejelasan dan keakuratan data. Dengan menghapus atau mengurangi noise, kualitas data seismic dapat ditingkatkan, memungkinkan interpretasi yang lebih baik dan hasil analisis yang lebih akurat.\n",
        "\n",
        "Noise pada sinyal seismic dapat berasal dari sumber yang tidak diinginkan, seperti getaran buatan manusia, lalu lintas, atau suara alam, termasuk suara air laut atau suara angin. Penghapusan noise memungkinkan identifikasi dan isolasi sumber seismic yang sebenarny"
      ]
    },
    {
      "cell_type": "markdown",
      "metadata": {
        "id": "4P8Yp2RKyBfo"
      },
      "source": [
        "**Tujuan** :\n",
        "Tujuan penghapusan noise pada sinyal seismic adalah \n",
        "Untuk meningkatkan kualitas suara\n",
        "Meningkatkan kualitas dan kejelasan data seismik yang diperoleh"
      ]
    },
    {
      "cell_type": "code",
      "execution_count": null,
      "metadata": {
        "colab": {
          "base_uri": "https://localhost:8080/"
        },
        "id": "EI4ub4LIjALQ",
        "outputId": "a2074cde-4c64-4277-c2b3-d012782c5d35"
      },
      "outputs": [],
      "source": [
        "pip install pydub"
      ]
    },
    {
      "cell_type": "markdown",
      "metadata": {
        "id": "xNn-vUe05NmH"
      },
      "source": [
        "# **membaca file audio dalam format MP3, mengonversinya menjadi file WAV, dan memvisualisasikan sinyal audio tersebut.**"
      ]
    },
    {
      "cell_type": "code",
      "execution_count": null,
      "metadata": {
        "colab": {
          "base_uri": "https://localhost:8080/",
          "height": 410
        },
        "id": "HBgAKcWZ0RQz",
        "outputId": "e160390d-eb16-4f1a-99f0-f6651f45c739"
      },
      "outputs": [],
      "source": [
        "import matplotlib.pyplot as plt # Mengimpor modul pyplot dari pustaka Matplotlib untuk membuat plot.\n",
        "import numpy as np # Mengimpor modul numpy untuk operasi numerik.\n",
        "from pydub import AudioSegment # Mengimpor kelas AudioSegment dari pustaka PyDub untuk membaca file audio.\n",
        "import scipy.io.wavfile as wav # Mengimpor modul wavfile dari pustaka SciPy untuk membaca dan menulis file WAV.\n",
        "\n",
        "# Membaca file audio dengan nama \"Earthquake.mp3\" menggunakan AudioSegment dari PyDub.\n",
        "audio = AudioSegment.from_file(\"Earthquake.mp3\", format=\"mp3\")\n",
        "\n",
        "# Simpan sebagai file WAV sementara\n",
        "wav_file = \"Earthquake.wav\" # Menyimpan nama file WAV sementara yang akan dihasilkan.\n",
        "audio.export(wav_file, format=\"wav\") # Menyimpan file audio dalam format WAV menggunakan export dari PyDub.\n",
        "\n",
        "# Membaca file audio WAV menggunakan read dari wavfile dari SciPy\n",
        "sampling_rate, audio_data = wav.read(wav_file)\n",
        "\n",
        "# Normalisasi sinyal audio\n",
        "audio_data = audio_data / np.max(np.abs(audio_data))\n",
        "\n",
        "# Menghitung durasi audio dalam detik dengan membagi jumlah sampel audio (len(audio_data)) dengan tingkat sampel (sampling_rate).\n",
        "duration = len(audio_data) / sampling_rate\n",
        "\n",
        "# Buat sumbu waktu untuk plot dengan rentang waktu dari 0 hingga durasi audio.\n",
        "time = np.linspace(0., duration, len(audio_data))\n",
        "\n",
        "# Plot sinyal audio\n",
        "plt.figure(figsize=(8, 4)) # Membuat objek gambar (figure) dengan ukuran 8x4 inci\n",
        "plt.plot(time, audio_data, color='b') # Membuat plot dari sinyal audio dengan menggunakan plt.plot(). Sumur waktu time digunakan sebagai sumbu x dan data audio yang telah dinormalisasi audio_data digunakan sebagai sumbu y.\n",
        "plt.xlabel('Time (s)')\n",
        "plt.ylabel('Amplitude')\n",
        "plt.title('Audio Signal Earthquake.wav')\n",
        "plt.grid(True) # Menampilkan garis-garis grid pada plot\n",
        "plt.show()"
      ]
    },
    {
      "cell_type": "markdown",
      "metadata": {
        "id": "hmoVK4hvFFvH"
      },
      "source": [
        "# **mendengarkan suara asli tanpa noise**"
      ]
    },
    {
      "cell_type": "code",
      "execution_count": null,
      "metadata": {
        "colab": {
          "base_uri": "https://localhost:8080/",
          "height": 76
        },
        "id": "1zoRuW2W5Cdw",
        "outputId": "e9c87d94-e3e2-4e6d-cda1-93349166a6ce"
      },
      "outputs": [],
      "source": [
        "from IPython.display import Audio\n",
        "# Hear the audio\n",
        "Audio('Earthquake.wav')"
      ]
    },
    {
      "cell_type": "markdown",
      "metadata": {
        "id": "mOwd5ymWAxDQ"
      },
      "source": [
        "## **mendengarkan suara noisenya saja**"
      ]
    },
    {
      "cell_type": "code",
      "execution_count": null,
      "metadata": {
        "colab": {
          "base_uri": "https://localhost:8080/",
          "height": 75
        },
        "id": "e8W7MKkFAaBp",
        "outputId": "2d037758-1f88-493a-a909-b7b5f74f0195"
      },
      "outputs": [],
      "source": [
        "from IPython.display import Audio\n",
        "# Hear the audio\n",
        "Audio('sea.wav')"
      ]
    },
    {
      "cell_type": "markdown",
      "metadata": {
        "id": "Qt2GZj4YE1Ll"
      },
      "source": [
        "# **mendengarkan suara yang sudah ditambahkan noise**"
      ]
    },
    {
      "cell_type": "code",
      "execution_count": null,
      "metadata": {
        "colab": {
          "base_uri": "https://localhost:8080/",
          "height": 75
        },
        "id": "-z1ifODrE5wa",
        "outputId": "7cdf537d-6588-42e8-d804-3fc14a0f3346"
      },
      "outputs": [],
      "source": [
        "from IPython.display import Audio\n",
        "# Hear the audio\n",
        "Audio('campuran.WAV')"
      ]
    },
    {
      "cell_type": "markdown",
      "metadata": {
        "id": "ashN60dWfHhe"
      },
      "source": [
        "## **Membandingkan dengan metode analisis amplitudo dari Audio Asli dengan Audio Campuran Noise**"
      ]
    },
    {
      "cell_type": "code",
      "execution_count": null,
      "metadata": {
        "colab": {
          "base_uri": "https://localhost:8080/"
        },
        "id": "LvwfzWXWejFO",
        "outputId": "d4d3f275-81af-415a-e936-75fd922d1e3c"
      },
      "outputs": [],
      "source": [
        "pip install noisereduce"
      ]
    },
    {
      "cell_type": "code",
      "execution_count": null,
      "metadata": {
        "colab": {
          "base_uri": "https://localhost:8080/",
          "height": 426
        },
        "id": "cXA4QsdleSKZ",
        "outputId": "702862dc-7d02-424c-f15b-12880e4ce7bc"
      },
      "outputs": [],
      "source": [
        "import numpy as np\n",
        "from pydub import AudioSegment # Mengimpor kelas AudioSegment dari pustaka PyDub untuk membaca file audio.\n",
        "import scipy.io.wavfile as wav # Mengimpor modul wavfile dari pustaka SciPy untuk membaca dan menulis file WAV.\n",
        "import matplotlib.pyplot as plt #untuk membuat plot dari data audio.\n",
        "\n",
        "# Menyimpan nama file WAV sementara yang akan dihasilkan.\n",
        "wav_file = \"campuran.WAV\" \n",
        "# Membaca file audio WAV menggunakan read dari wavfile dari SciPy\n",
        "sampling_rate, audio_data = wav.read(wav_file)\n",
        "# Normalisasi sinyal audio\n",
        "audio_visual = audio_data / np.max(np.abs(audio_data))\n",
        "# Menghitung durasi audio dalam detik dengan membagi jumlah sampel audio (len(audio_data)) dengan tingkat sampel (sampling_rate).\n",
        "duration = len(audio_data) / sampling_rate\n",
        "# Buat sumbu waktu untuk plot dengan rentang waktu dari 0 hingga durasi audio.\n",
        "time = np.linspace(0., duration, len(audio_data))\n",
        "\n",
        "# Menampilkan sinyal audio Campuran\n",
        "plt.figure(figsize=(12, 4))\n",
        "plt.subplot(2, 1,2)\n",
        "plt.title('Audio Campuran Noise')\n",
        "plt.plot(time,audio_visual,color='r')\n",
        "plt.xlabel('Waktu (S)')\n",
        "plt.ylabel('Amplitude')\n",
        "plt.tight_layout()\n",
        "\n",
        "# Menyimpan nama file WAV sementara yang akan dihasilkan.\n",
        "wav_file = \"Earthquake.wav\" \n",
        "# Membaca file audio WAV menggunakan read dari wavfile dari SciPy\n",
        "sampling_rate, audio_data = wav.read(wav_file)\n",
        "# Normalisasi sinyal audio\n",
        "audio_visual = audio_data / np.max(np.abs(audio_data))\n",
        "# Menghitung durasi audio dalam detik dengan membagi jumlah sampel audio (len(audio_data)) dengan tingkat sampel (sampling_rate).\n",
        "duration = len(audio_data) / sampling_rate\n",
        "# Buat sumbu waktu untuk plot dengan rentang waktu dari 0 hingga durasi audio.\n",
        "time = np.linspace(0., duration, len(audio_data))\n",
        "\n",
        "# Menampilkan sinyal audio Asli\n",
        "plt.subplot(2, 1, 1)\n",
        "plt.title('Audio Asli')\n",
        "plt.plot(time,audio_visual,color='b')\n",
        "plt.xlabel('Waktu (S)')\n",
        "plt.ylabel('Amplitude')\n",
        "plt.tight_layout()\n",
        "\n",
        "# Menampilkan plot\n",
        "plt.show()"
      ]
    },
    {
      "cell_type": "markdown",
      "metadata": {
        "id": "vu3ZdTddtjm6"
      },
      "source": [
        "# **filter lowpass Butterworth, menyimpan hasil filter, dan menampilkan visualisasi grafik amplitudo data audio.**"
      ]
    },
    {
      "cell_type": "markdown",
      "metadata": {
        "id": "XbVm1IqRx6zm"
      },
      "source": [
        "filter lowpass Butterworth dapat digunakan untuk mengurangi noise atau sinyal gangguan dengan memotong komponen frekuensi tinggi yang tidak diinginkan."
      ]
    },
    {
      "cell_type": "code",
      "execution_count": null,
      "metadata": {
        "colab": {
          "base_uri": "https://localhost:8080/",
          "height": 382
        },
        "id": "vnY_PnH3rQT3",
        "outputId": "a1e182ea-1d81-4ba7-9932-0b8963bcbd4a"
      },
      "outputs": [],
      "source": [
        "import numpy as np # untuk manipulasi data numerik.\n",
        "import scipy.signal as signal # untuk pemrosesan sinyal.\n",
        "import matplotlib.pyplot as plt\n",
        "\n",
        "# Membaca file \"campuran\"\n",
        "sample_rate, audio_data = wav.read(\"campuran.WAV\")\n",
        "\n",
        "# Menentukan frekuensi yang akan dipotong (3000 Hz)\n",
        "cutoff_freq = 3000\n",
        "\n",
        "# Menghitung nilai normalisasi cutoff\n",
        "normalized_cutoff = cutoff_freq / (0.5 * sample_rate)\n",
        "\n",
        "# Membangun filter lowpass Butterworth dengan parameter b dan a\n",
        "b, a = signal.butter(4, normalized_cutoff, btype='low', analog=False, output=\"ba\")\n",
        "\n",
        "# Menerapkan filter ke audio\n",
        "filtered = signal.lfilter(b, a, audio_data) # Fungsi ini menerapkan filter FIR (Finite Impulse Response) pada sinyal input menggunakan koefisien filter yang diberikan.\n",
        "\n",
        "# Menyimpan file yang sudah difilter\n",
        "wav.write(\"reduce_Low.wav\", sample_rate, np.int16(filtered)) # sample_rate menyimpan nilai sample rate dari sinyal audio.\n",
        "                  #np.int16(filtered) menyimpan hasil pemrosesan filter dari sinyal audio yang telah difilter menggunakan signal.lfilter()\n",
        "\n",
        "# Menghitung waktu untuk visualisasi\n",
        "time = np.arange(0, len(audio_data)) / sample_rate\n",
        "\n",
        "# Menvisualisasikan audio setelah mengurangi noise\n",
        "plt.figure(figsize=(12, 4))\n",
        "plt.title('Audio dengan lowpass butterworth')\n",
        "plt.ylabel('Amplitudo')\n",
        "plt.xlabel('Waktu (s)')\n",
        "plt.plot(time, audio_data, color='g')\n",
        "plt.tight_layout()\n",
        "\n",
        "# Menampilkan plot\n",
        "plt.show()\n"
      ]
    },
    {
      "cell_type": "code",
      "execution_count": null,
      "metadata": {
        "colab": {
          "base_uri": "https://localhost:8080/",
          "height": 75
        },
        "id": "zUE1eBohrd7a",
        "outputId": "e2c2cdd2-fec4-4779-bfc6-dcbb4de3f925"
      },
      "outputs": [],
      "source": [
        "from IPython.display import Audio\n",
        "# Hear the audio\n",
        "Audio('reduce_Low.wav')"
      ]
    },
    {
      "cell_type": "markdown",
      "metadata": {
        "id": "IgjdAxBuv0em"
      },
      "source": [
        "# **Analisis audio yang telah direduce menggunakan metode library noicereduce**"
      ]
    },
    {
      "cell_type": "code",
      "execution_count": null,
      "metadata": {
        "colab": {
          "base_uri": "https://localhost:8080/",
          "height": 407
        },
        "id": "9c8b5QODTDia",
        "outputId": "307f48e3-abb5-419b-8f4d-c62b5e274de2"
      },
      "outputs": [],
      "source": [
        "import os #untuk berinteraksi dengan sistem operasi.\n",
        "import librosa #untuk memuat dan memproses file audio.\n",
        "import noisereduce #ntuk memuat dan memproses file audio.\n",
        "import matplotlib.pyplot as plt #untuk membuat plot dari data audio.\n",
        "import soundfile as sf #untuk menyimpan file audio yang sudah diolah.\n",
        "import numpy as np\n",
        "from pydub import AudioSegment # Mengimpor kelas AudioSegment dari pustaka PyDub untuk membaca file audio.\n",
        "import scipy.io.wavfile as wav # Mengimpor modul wavfile dari pustaka SciPy untuk membaca dan menulis file WAV.\n",
        "\n",
        "# Mendapatkan jalur lengkap ke file audio untuk dioprasikan\n",
        "audio_filename = 'campuran.WAV'\n",
        "audio_path = os.path.join(os.getcwd(), audio_filename)\n",
        "# Memuat file audio\n",
        "audio_data, sr = librosa.load(audio_path)\n",
        "# Ekstraksi noise dari audio\n",
        "# Menghitung spektrum frekuensi\n",
        "noise_clip = audio_data[:8000]\n",
        "# Mengurangi noise dari audio\n",
        "reduced_noise = noisereduce.reduce_noise(y=audio_data,y_noise=noise_clip, sr=sr) #y=audio_data adalah data audio yang akan diolah. sr=sr adalah sampling rate dari file audio.\n",
        "# Menyimpan audio yang sudah tereduce\n",
        "output_path = 'audio_reduced.wav'  # Ganti dengan path untuk menyimpan audio hasil\n",
        "sf.write(output_path, reduced_noise, sr, format='wav')\n",
        "\n",
        "\n",
        "# Menyimpan nama file WAV sementara yang akan dihasilkan.\n",
        "wav_file = \"audio_reduced.wav\" \n",
        "# Membaca file audio WAV menggunakan read dari wavfile dari SciPy\n",
        "sampling_rate, audio_data = wav.read(wav_file)\n",
        "# Normalisasi sinyal audio\n",
        "audio_visual = audio_data / np.max(np.abs(audio_data))\n",
        "# Menghitung durasi audio dalam detik dengan membagi jumlah sampel audio (len(audio_data)) dengan tingkat sampel (sampling_rate).\n",
        "duration = len(audio_data) / sampling_rate\n",
        "# Buat sumbu waktu untuk plot dengan rentang waktu dari 0 hingga durasi audio.\n",
        "time = np.linspace(0., duration, len(audio_data))\n",
        "\n",
        "# Menvisualisasikan audio reduce noise\n",
        "plt.figure(figsize=(12, 4))\n",
        "plt.title('Audio Reduce Noiced')\n",
        "plt.ylabel('Amplitude')\n",
        "plt.xlabel('Waktu (S)')\n",
        "plt.plot(time,audio_visual,color='g')\n",
        "plt.tight_layout()\n",
        "\n",
        "# Menampilkan plot\n",
        "plt.show()"
      ]
    },
    {
      "cell_type": "markdown",
      "metadata": {
        "id": "wjDJplHfU5Er"
      },
      "source": [
        "## **mendengarkan suara yang noisenya sudah dihilangkan**"
      ]
    },
    {
      "cell_type": "code",
      "execution_count": null,
      "metadata": {
        "colab": {
          "base_uri": "https://localhost:8080/",
          "height": 75
        },
        "id": "kRpoEyl1VBkL",
        "outputId": "b7a16ee7-780a-4526-c6d3-90d62581c280"
      },
      "outputs": [],
      "source": [
        "from IPython.display import Audio\n",
        "# Hear the audio\n",
        "Audio('audio_reduced.wav')"
      ]
    },
    {
      "cell_type": "markdown",
      "metadata": {
        "id": "_6zzSm0OyymO"
      },
      "source": [
        "# **menampilkan spektrogram audio yang berisikan noise**"
      ]
    },
    {
      "cell_type": "code",
      "execution_count": null,
      "metadata": {
        "colab": {
          "base_uri": "https://localhost:8080/",
          "height": 410
        },
        "id": "dbb3KQPmkyfZ",
        "outputId": "7e4d1ef8-644c-4d0c-a746-e9cfa2d2d1f3"
      },
      "outputs": [],
      "source": [
        "import librosa # untuk analisis audio.\n",
        "import librosa.display # Mengimpor modul display dari librosa untuk menampilkan spektrogram.\n",
        "import matplotlib.pyplot as plt # Mengimpor modul pyplot dari Matplotlib untuk membuat plot.\n",
        "\n",
        "audio_file = 'campuran.WAV' # Menyimpan nama file audio yang akan dimuat.\n",
        "y, sr = librosa.load(audio_file) # Memuat file audio menggunakan librosa.load(). Hasilnya adalah sinyal audio (y) dan tingkat sampel (sr).\n",
        "\n",
        "hop_length = 512 # hop length = jumlah sampel yang digunakan untuk pergeseran jendela saat menghitung spektrogram.\n",
        "\n",
        "spectrogram = librosa.stft(y, hop_length=hop_length) # Spektrogram dihitung dengan menggunakan Short-Time Fourier Transform (STFT).\n",
        "spectrogram_db = librosa.amplitude_to_db(abs(spectrogram)) # Mengubah amplitudo spektrogram menjadi skala logaritmik dalam desibel\n",
        "\n",
        "plt.figure(figsize=(8, 4)) # Mengubah amplitudo spektrogram menjadi skala logaritmik dalam desibel\n",
        "librosa.display.specshow(spectrogram_db, sr=sr, hop_length=hop_length, x_axis='time', y_axis='log') #  Menampilkan spektrogram dalam bentuk plot\n",
        "                                                                # Parameter sr digunakan untuk menentukan tingkat sampel\n",
        "                                                                # hop_length digunakan untuk mengatur jarak pergeseran jendela\n",
        "                                                                # x_axis dan y_axis digunakan untuk menentukan sumbu x dan y dalam plot spektrogram.\n",
        "plt.colorbar(format='%+2.0f dB') # Menampilkan colorbar pada plot spektrogram\n",
        "plt.title('Spectrogram of Noise Audio')\n",
        "plt.show()\n"
      ]
    },
    {
      "cell_type": "markdown",
      "metadata": {
        "id": "Qo0HvvrMF-zm"
      },
      "source": [
        "# **menampilkan spektrogram audio tanpa noise**\n",
        "\n"
      ]
    },
    {
      "cell_type": "code",
      "execution_count": null,
      "metadata": {
        "colab": {
          "base_uri": "https://localhost:8080/",
          "height": 410
        },
        "id": "RTpjZtvwF9Q5",
        "outputId": "36fce44f-fee2-417b-df27-980bd61130f9"
      },
      "outputs": [],
      "source": [
        "import librosa # untuk analisis audio.\n",
        "import numpy as np # untuk operasi numerik.\n",
        "import matplotlib.pyplot as plt # untuk membuat plot.\n",
        "\n",
        "audio_file = 'Earthquake.wav'\n",
        "audio, sr = librosa.load(audio_file) # Memuat file audio menggunakan librosa.load(). Hasilnya adalah sinyal audio (audio) dan tingkat sampel (sr).\n",
        "\n",
        "n_fft = 2048  #  Menentukan jumlah titik FFT yang digunakan dalam perhitungan spektrogram.\n",
        "hop_length = 512  #  Menentukan jarak pergeseran antara frame dalam perhitungan spektrogram.\n",
        "win_length = 2048  #  Menentukan ukuran jendela yang digunakan dalam perhitungan spektrogram.\n",
        "spectrogram = librosa.stft(audio, n_fft=n_fft, hop_length=hop_length, win_length=win_length) # Argumen n_fft, hop_length, dan win_length digunakan untuk mengatur parameter perhitungan spektrogram.\n",
        "spectrogram_db = librosa.amplitude_to_db(np.abs(spectrogram), ref=np.max) # Mengubah amplitudo spektrogram menjadi skala logaritmik dalam desibel. Fungsi np.abs() digunakan untuk mengambil nilai absolut dari spektrogram.\n",
        "\n",
        "plt.figure(figsize=(8, 4)) # Membuat objek gambar (figure) dengan ukuran 8x4 inci\n",
        "librosa.display.specshow(spectrogram_db, sr=sr, hop_length=hop_length, x_axis='time', y_axis='log')\n",
        "plt.colorbar(format='%+2.0f dB') # Menampilkan colorbar pada plot spektrogram\n",
        "plt.title('Spectrogram of Normal Audio')\n",
        "plt.show()"
      ]
    },
    {
      "cell_type": "markdown",
      "metadata": {
        "id": "atXPSdjvhUqd"
      },
      "source": [
        "# **menampilkan spektrogram reduced audio**\n",
        "\n"
      ]
    },
    {
      "cell_type": "code",
      "execution_count": null,
      "metadata": {
        "colab": {
          "base_uri": "https://localhost:8080/",
          "height": 410
        },
        "id": "c2XMf-q0hVRv",
        "outputId": "9ee51e97-7e2b-4011-9fc8-dbf6862e0f40"
      },
      "outputs": [],
      "source": [
        "import librosa # untuk analisis audio.\n",
        "import numpy as np # untuk operasi numerik.\n",
        "import matplotlib.pyplot as plt # untuk membuat plot.\n",
        "\n",
        "audio_file = 'audio_reduced.wav'\n",
        "audio, sr = librosa.load(audio_file) # Memuat file audio menggunakan librosa.load(). Hasilnya adalah sinyal audio (audio) dan tingkat sampel (sr).\n",
        "\n",
        "n_fft = 2048  #  Menentukan jumlah titik FFT yang digunakan dalam perhitungan spektrogram.\n",
        "hop_length = 512  #  Menentukan jarak pergeseran antara frame dalam perhitungan spektrogram.\n",
        "win_length = 2048  #  Menentukan ukuran jendela yang digunakan dalam perhitungan spektrogram.\n",
        "spectrogram = librosa.stft(audio, n_fft=n_fft, hop_length=hop_length, win_length=win_length) # Argumen n_fft, hop_length, dan win_length digunakan untuk mengatur parameter perhitungan spektrogram.\n",
        "spectrogram_db = librosa.amplitude_to_db(np.abs(spectrogram), ref=np.max) # Mengubah amplitudo spektrogram menjadi skala logaritmik dalam desibel. Fungsi np.abs() digunakan untuk mengambil nilai absolut dari spektrogram.\n",
        "\n",
        "plt.figure(figsize=(8, 4)) # Membuat objek gambar (figure) dengan ukuran 8x4 inci\n",
        "librosa.display.specshow(spectrogram_db, sr=sr, hop_length=hop_length, x_axis='time', y_axis='log')\n",
        "plt.colorbar(format='%+2.0f dB') # Menampilkan colorbar pada plot spektrogram\n",
        "plt.title('Spectrogram of Reduced Audio')\n",
        "plt.show()"
      ]
    },
    {
      "cell_type": "markdown",
      "metadata": {
        "id": "8lcEd5tKJBtE"
      },
      "source": [
        "## **visualisasi spectogram normal audio menggunakan peta warna Magma**"
      ]
    },
    {
      "cell_type": "code",
      "execution_count": null,
      "metadata": {
        "colab": {
          "base_uri": "https://localhost:8080/",
          "height": 446
        },
        "id": "4PCerHT7JDtK",
        "outputId": "903aecd0-428f-4e23-f0b5-dbc8b0523a5e"
      },
      "outputs": [],
      "source": [
        "# Membaca file WAV\n",
        "audio_path = 'Earthquake.wav'\n",
        "waveform, sample_rate = librosa.load(audio_path)\n",
        "\n",
        "# Menghitung waktu dari indeks sampel\n",
        "duration = len(waveform) / sample_rate\n",
        "time = np.linspace(0, duration, len(waveform))\n",
        "\n",
        "# Menampilkan gelombang suara dengan peta warna Magma\n",
        "plt.figure(figsize=(10, 4))\n",
        "plt.specgram(waveform, NFFT=2048, Fs=2, noverlap=1024, cmap='magma')\n",
        "plt.colorbar(format='%+2.0f dB')\n",
        "plt.title('Spectrogram normal audio with Magma colormap')\n",
        "plt.xlabel('Time (seconds)')\n",
        "plt.ylabel('Frequency (Hz)')\n",
        "plt.show()"
      ]
    },
    {
      "cell_type": "markdown",
      "metadata": {
        "id": "CMTtXIJsJdIl"
      },
      "source": [
        "## **visualisasi noise audio menggunakan peta warna Magma**"
      ]
    },
    {
      "cell_type": "code",
      "execution_count": null,
      "metadata": {
        "colab": {
          "base_uri": "https://localhost:8080/",
          "height": 410
        },
        "id": "tYWrELivJOK7",
        "outputId": "ea1f84d2-0f2e-40d6-de7e-576f4fc0dfc8"
      },
      "outputs": [],
      "source": [
        "# Membaca file WAV\n",
        "audio_path = 'campuran.WAV'\n",
        "waveform, sample_rate = librosa.load(audio_path)\n",
        "\n",
        "# Menghitung waktu dari indeks sampel\n",
        "duration = len(waveform) / sample_rate\n",
        "time = np.linspace(0, duration, len(waveform))\n",
        "\n",
        "# Menampilkan gelombang suara dengan peta warna Magma\n",
        "plt.figure(figsize=(10, 4))\n",
        "plt.specgram(waveform, NFFT=2048, Fs=2, noverlap=1024, cmap='magma')\n",
        "plt.colorbar(format='%+2.0f dB')\n",
        "plt.title('Spectrogram noise audio with Magma colormap')\n",
        "plt.xlabel('Time (seconds)')\n",
        "plt.ylabel('Frequency (Hz)')\n",
        "plt.show()\n"
      ]
    },
    {
      "cell_type": "markdown",
      "metadata": {
        "id": "exPVZPg_hFrx"
      },
      "source": [
        "## **visualisasi reduced audio menggunakan peta warna Magma**"
      ]
    },
    {
      "cell_type": "code",
      "execution_count": null,
      "metadata": {
        "colab": {
          "base_uri": "https://localhost:8080/",
          "height": 446
        },
        "id": "Q104mKVjhB2J",
        "outputId": "19a5c42f-a0af-40f9-ee58-66b23fe5824f"
      },
      "outputs": [],
      "source": [
        "# Membaca file WAV\n",
        "audio_path = 'audio_reduced.wav'\n",
        "waveform, sample_rate = librosa.load(audio_path)\n",
        "\n",
        "# Menghitung waktu dari indeks sampel\n",
        "duration = len(waveform) / sample_rate\n",
        "time = np.linspace(0, duration, len(waveform))\n",
        "\n",
        "# Menampilkan gelombang suara dengan peta warna Magma\n",
        "plt.figure(figsize=(10, 4))\n",
        "plt.specgram(waveform, NFFT=2048, Fs=2, noverlap=1024, cmap='magma')\n",
        "plt.colorbar(format='%+2.0f dB')\n",
        "plt.title('Spectrogram reduced audio with Magma colormap')\n",
        "plt.xlabel('Time (seconds)')\n",
        "plt.ylabel('Frequency (Hz)')\n",
        "plt.show()"
      ]
    },
    {
      "cell_type": "markdown",
      "metadata": {
        "id": "CcGvObd9HDB4"
      },
      "source": [
        "## **menampilkan linear frequency power spectrogram dengan menggunakan skala frekuensi linear, lalu simpan gambar otomatis**\n",
        "\n",
        "Linear frequency power spectrogram adalah representasi visual dari kekuatan atau amplitudo spektral sinyal audio dalam domain frekuensi. Spektrogram ini menunjukkan bagaimana kekuatan sinyal berubah seiring waktu dan frekuensi."
      ]
    },
    {
      "cell_type": "code",
      "execution_count": null,
      "metadata": {
        "colab": {
          "base_uri": "https://localhost:8080/"
        },
        "id": "pZRwoV5X-CL6",
        "outputId": "a5544793-ddf6-48c2-b031-801e5c34dfd3"
      },
      "outputs": [],
      "source": [
        "### FILE ASLI\n",
        "import librosa\n",
        "import librosa.display\n",
        "import matplotlib.pyplot as plt\n",
        "\n",
        "# Memuat file audio\n",
        "file_audio = 'Earthquake.wav'\n",
        "audio, sr = librosa.load(file_audio)\n",
        "\n",
        "# Menghitung linear frequency power spectrogram\n",
        "n_fft = 2048  # Jumlah titik FFT\n",
        "hop_length = 512  # Jarak pergeseran antara frame\n",
        "linear_spectrogram = np.abs(librosa.stft(audio, n_fft=n_fft, hop_length=hop_length))\n",
        "\n",
        "# Menampilkan linear frequency power spectrogram dengan skala frekuensi linear\n",
        "plt.figure(figsize=(10, 4))\n",
        "librosa.display.specshow(librosa.amplitude_to_db(linear_spectrogram, ref=np.max), x_axis='time', y_axis='linear', sr=sr, hop_length=hop_length)\n",
        "plt.colorbar(format='%+2.0f dB')\n",
        "plt.title('Linear Frequency Power Spectrogram')\n",
        "plt.tight_layout()\n",
        "\n",
        "# Menyimpan gambar linear frequency power spectrogram secara otomatis\n",
        "output_file = 'asli_Linear_spectrogram.png'\n",
        "plt.savefig(output_file)\n",
        "plt.close()\n",
        "\n",
        "print(f\"Gambar asli linear frequency power spectrogram telah disimpan sebagai '{output_file}'.\")\n",
        "\n",
        "\n",
        "### FILE noise\n",
        "import librosa\n",
        "import librosa.display\n",
        "import matplotlib.pyplot as plt\n",
        "\n",
        "# Memuat file audio\n",
        "file_audio = 'campuran.WAV'\n",
        "audio, sr = librosa.load(file_audio)\n",
        "\n",
        "# Menghitung linear frequency power spectrogram\n",
        "n_fft = 2048  # Jumlah titik FFT\n",
        "hop_length = 512  # Jarak pergeseran antara frame\n",
        "linear_spectrogram = np.abs(librosa.stft(audio, n_fft=n_fft, hop_length=hop_length))\n",
        "\n",
        "# Menampilkan linear frequency power spectrogram dengan skala frekuensi linear\n",
        "plt.figure(figsize=(10, 4))\n",
        "librosa.display.specshow(librosa.amplitude_to_db(linear_spectrogram, ref=np.max), x_axis='time', y_axis='linear', sr=sr, hop_length=hop_length)\n",
        "plt.colorbar(format='%+2.0f dB')\n",
        "plt.title('Noise Linear Frequency Power Spectrogram')\n",
        "plt.tight_layout()\n",
        "\n",
        "# Menyimpan gambar linear frequency power spectrogram secara otomatis\n",
        "output_file = 'noise_Linear_spectrogram.png'\n",
        "plt.savefig(output_file)\n",
        "plt.close()\n",
        "\n",
        "print(f\"Gambar noise linear frequency power spectrogram telah disimpan sebagai '{output_file}'.\")\n",
        "\n",
        "\n",
        "### FILE REDUCED\n",
        "import librosa\n",
        "import librosa.display\n",
        "import matplotlib.pyplot as plt\n",
        "\n",
        "# Memuat file audio\n",
        "file_audio = 'audio_reduced.wav'\n",
        "audio, sr = librosa.load(file_audio)\n",
        "\n",
        "# Menghitung linear frequency power spectrogram\n",
        "n_fft = 2048  # Jumlah titik FFT\n",
        "hop_length = 512  # Jarak pergeseran antara frame\n",
        "linear_spectrogram = np.abs(librosa.stft(audio, n_fft=n_fft, hop_length=hop_length))\n",
        "\n",
        "# Menampilkan linear frequency power spectrogram dengan skala frekuensi linear\n",
        "plt.figure(figsize=(10, 4))\n",
        "librosa.display.specshow(librosa.amplitude_to_db(linear_spectrogram, ref=np.max), x_axis='time', y_axis='linear', sr=sr, hop_length=hop_length)\n",
        "plt.colorbar(format='%+2.0f dB')\n",
        "plt.title('Linear Frequency Power Spectrogram')\n",
        "plt.tight_layout()\n",
        "\n",
        "# Menyimpan gambar linear frequency power spectrogram secara otomatis\n",
        "output_file = 'reduced_Linear_spectrogram.png'\n",
        "plt.savefig(output_file)\n",
        "plt.close()\n",
        "\n",
        "print(f\"Gambar reduced linear frequency power spectrogram telah disimpan sebagai '{output_file}'.\")\n"
      ]
    },
    {
      "cell_type": "markdown",
      "metadata": {
        "id": "SJK1TB1Q6e8Y"
      },
      "source": [
        "## **High-Pass Filter**\n",
        "Filter ini digunakan untuk memblokir komponen frekuensi rendah dan mempertahankan komponen frekuensi tinggi pada sinyal seismic. Filter pita tinggi membantu dalam menyorot fitur-fitur frekuensi tinggi yang penting dalam data seismic."
      ]
    },
    {
      "cell_type": "code",
      "execution_count": null,
      "metadata": {
        "colab": {
          "base_uri": "https://localhost:8080/",
          "height": 744
        },
        "id": "jKelggSJ1FOL",
        "outputId": "bcd86864-db7c-4297-f20e-4aa487dade4d"
      },
      "outputs": [],
      "source": [
        "import numpy as np\n",
        "import scipy.signal as signal\n",
        "import soundfile as sf\n",
        "import matplotlib.pyplot as plt\n",
        "\n",
        "# Load audio file\n",
        "audio_path = 'Earthquake.wav'\n",
        "audio, sr = sf.read(audio_path)\n",
        "\n",
        "# Design high-pass filter parameters\n",
        "cutoff_freq = 500  # Frekuensi cutoff (Hz)\n",
        "\n",
        "# Normalize cutoff frequency to Nyquist frequency\n",
        "normalized_cutoff = cutoff_freq / (sr / 2) # Frekuensi Nyquist adalah batas maksimum yang dapat direpresentasikan dalam sinyal digital dan biasanya setara dengan separuh sample rate.\n",
        "\n",
        "# Design and apply high-pass filter\n",
        "b, a = signal.butter(4, normalized_cutoff, btype='high')\n",
        "filtered_audio = signal.lfilter(b, a, audio)\n",
        "\n",
        "# Save filtered audio to a new file\n",
        "filtered_audio_path = 'filtered_highpass_earthquake.wav'\n",
        "sf.write(filtered_audio_path, filtered_audio, sr)\n",
        "\n",
        "# Plot waveform\n",
        "plt.figure(figsize= (7,4))\n",
        "plt.plot(audio)\n",
        "plt.title('Sebelum Filtering')\n",
        "plt.xlabel('Waktu (sample)')\n",
        "plt.ylabel('Amplitudo')\n",
        "plt.show()\n",
        "\n",
        "# Plot filtered waveform\n",
        "plt.figure(figsize=(7,3))\n",
        "plt.plot(filtered_audio)\n",
        "plt.title('Setelah Filtering')\n",
        "plt.xlabel('Waktu (sample)')\n",
        "plt.ylabel('Amplitudo')\n",
        "plt.show()\n",
        "\n",
        "print(\"Audio yang telah difilter telah disimpan dengan nama 'filtered_highpass_earthquake.wav'.\")"
      ]
    },
    {
      "cell_type": "code",
      "execution_count": null,
      "metadata": {
        "colab": {
          "base_uri": "https://localhost:8080/",
          "height": 75
        },
        "id": "2PCPDHnJ6z2g",
        "outputId": "b8ab374f-4afa-4932-8644-96b68a85cbb8"
      },
      "outputs": [],
      "source": [
        "from IPython.display import Audio\n",
        "# Hear the audio\n",
        "Audio('filtered_highpass_earthquake.wav')"
      ]
    },
    {
      "cell_type": "markdown",
      "metadata": {
        "id": "E3MUiy8Jkkgz"
      },
      "source": [
        "## **Hasil analisis filter yang telah digunakan menggunakan metode SNR**"
      ]
    },
    {
      "cell_type": "code",
      "execution_count": null,
      "metadata": {
        "colab": {
          "base_uri": "https://localhost:8080/"
        },
        "id": "0uPuHQSJlZn9",
        "outputId": "d8533c4b-7181-4590-c98e-3da026fb5075"
      },
      "outputs": [],
      "source": [
        "import numpy as np\n",
        "import librosa\n",
        "import librosa.util\n",
        "\n",
        "def signalPower(x):\n",
        "    return np.mean(x**2)\n",
        "\n",
        "def SNR(signal, noise):\n",
        "    powS = signalPower(signal)\n",
        "    powN = signalPower(noise)\n",
        "    \n",
        "    if powN > 0:\n",
        "        return 10 * np.log10(powS / powN)\n",
        "    else:\n",
        "        return float('-inf')  # Return negative infinity for infinite SNR\n",
        "\n",
        "\n",
        "# Memuat sinyal suara menggunakan librosa\n",
        "input_sig, sr = librosa.load('Earthquake.wav') # file asli\n",
        "output_sig, sr = librosa.load('audio_reduced.wav') # filter dengan library noisereduce\n",
        "output_sig1, sr = librosa.load('filtered_highpass_earthquake.wav') # filter dengan highpass filter\n",
        "output_sig2, sr = librosa.load('reduce_Low.wav') #lowpass better\n",
        "noise_sig, sr = librosa.load('sea.wav')\n",
        "\n",
        "\n",
        "# Menghitung SNR menggunakan output_sig dan noise_sig\n",
        "method1 = SNR(input_sig, noise_sig)\n",
        "method2 = SNR(output_sig, noise_sig)\n",
        "method3 = SNR(output_sig1, noise_sig)\n",
        "method4 = SNR(output_sig2, noise_sig)\n",
        "\n",
        "# Menghitung SNR sistem menggunakan input_sig dan output_sig\n",
        "# method2 = SNRsystem(input_sig, output_sig)\n",
        "\n",
        "# Menampilkan hasil\n",
        "print(\"Method 1: SNR audio asli = {} dB\".format(method1))\n",
        "print(\"Method 2: SNR dengan library noisereduce = {} dB\".format(method2))\n",
        "print(\"Method 3: SNR highpass filter = {} dB\".format(method3))\n",
        "print(\"Method 4: SNR lowpass better = {} dB\".format(method4))"
      ]
    },
    {
      "cell_type": "markdown",
      "metadata": {
        "id": "1fOdffxppu4a"
      },
      "source": [
        "Kesimpulan :\n",
        "dengan hasil yang kami peroleh, filter highpass menjadi filter yang terbaik, dikarenakan dengan pendekatan value dari SNR suara asli yang lebih mendekati"
      ]
    }
  ],
  "metadata": {
    "colab": {
      "provenance": []
    },
    "kernelspec": {
      "display_name": "Python 3 (ipykernel)",
      "language": "python",
      "name": "python3"
    },
    "language_info": {
      "codemirror_mode": {
        "name": "ipython",
        "version": 3
      },
      "file_extension": ".py",
      "mimetype": "text/x-python",
      "name": "python",
      "nbconvert_exporter": "python",
      "pygments_lexer": "ipython3",
      "version": "3.9.13"
    }
  },
  "nbformat": 4,
  "nbformat_minor": 0
}
